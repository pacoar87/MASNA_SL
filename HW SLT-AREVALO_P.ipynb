{
 "cells": [
  {
   "cell_type": "markdown",
   "metadata": {},
   "source": [
    "# Homework on Statistical Learning Theory"
   ]
  },
  {
   "cell_type": "markdown",
   "metadata": {},
   "source": [
    "<b>Deadline:</b> 24.12.2018, 9 a.m. (there would be no soft deadline)\n",
    "\n",
    "<b>How to hang in?</b> You need to put your Jupyter Notebook to GitHub repo and send link in Telegram to <b>@CroCode</b>"
   ]
  },
  {
   "cell_type": "code",
   "execution_count": null,
   "metadata": {
    "collapsed": true
   },
   "outputs": [],
   "source": [
    "PACO AREVALO REYES"
   ]
  },
  {
   "cell_type": "markdown",
   "metadata": {},
   "source": [
    "### Block №1. Combinatorics and Probability Theory\n",
    "\n",
    "You can use LaTeX expressions in order to provide formulas: https://en.wikibooks.org/wiki/LaTeX"
   ]
  },
  {
   "cell_type": "markdown",
   "metadata": {},
   "source": [
    "1) In how many ways can the letters of the word PROBABILITY be rearranged such that all I’s and P’s appear in the middle?\n",
    "\n",
    "<b>Total:</b> 1 point"
   ]
  },
  {
   "cell_type": "code",
   "execution_count": null,
   "metadata": {
    "collapsed": true
   },
   "outputs": [],
   "source": [
    "ANSWER=9!-4*8!+2*7!"
   ]
  },
  {
   "cell_type": "markdown",
   "metadata": {},
   "source": [
    "2) The probability of having defect (at least 1 defective product) in batch of 100 products is 63.2%. Find the probability of having less than 3 defective products in such a batch.\n",
    "\n",
    "<i>Hint:</i> use idea of Poisson distribution (https://en.wikipedia.org/wiki/Poisson_distribution)\n",
    "\n",
    "<b>Total:</b> 1.5 points"
   ]
  },
  {
   "cell_type": "code",
   "execution_count": null,
   "metadata": {
    "collapsed": true
   },
   "outputs": [],
   "source": [
    "P(X>=1)=0.632\n",
    "P(X=0)=1-0.632=0.368\n",
    "P(X=k)=e^(-λ)*(λ)^k/(k!)\n",
    "P(X=0)=e^(-λ)\n",
    "λ=-log(-0.368)=0.9728611\n",
    "P(X=1)=0.368\n",
    "P(X=2)=e^(-λ)*(λ)^2/(2!)=0.1788807\n",
    "P(X=0)+P(X=1)+P(X=2)=0.368+0.368+0.1788807\n",
    "P(X<3)=0.368+0.368+0.1788807=0.9148807=91.49%"
   ]
  },
  {
   "cell_type": "markdown",
   "metadata": {},
   "source": [
    "### Block №2. Data Structures and Algorithms\n",
    "\n",
    "<b><i>NB!</i></b> Here you need to provide solution having minimal memory and runtime complexity in terms of Big O notation."
   ]
  },
  {
   "cell_type": "markdown",
   "metadata": {},
   "source": [
    "3) Suggest an algorithm that resets all elements in the column <i>i</i> and the row <i>j</i> of the matrix M to zeros if the element in the <i>(i, j)</i> cell is zero. Provide solution having minimal memory and runtime complexity in terms of Big O notation.\n",
    "\n",
    "<b>Input:</b> matrix M\n",
    "\n",
    "<b>Output:</b> modified according to condition matrix M\n",
    "\n",
    "<b>Total:</b> 2 points"
   ]
  },
  {
   "cell_type": "code",
   "execution_count": 3,
   "metadata": {},
   "outputs": [],
   "source": [
    "import numpy as np\n",
    "\n",
    "def setmatrix(M):\n",
    "    # We check zeros in 1st row and 1st column and save it in two boolean variables\n",
    "    row_aux = False #Initilize the logical variable for row\n",
    "    col_aux = False #Initilize the logical variables for column\n",
    "    # If at least one zero is founded in the first row and column\n",
    "    #the boolean variables will be set to True\n",
    "    \n",
    "    \n",
    "    # In the first round we just set the row and column boolean variables\n",
    "    # and modify the first row and first column of matrix\n",
    "    \n",
    "    for i in range(0, len(M)) : \n",
    "          \n",
    "        for j in range(0, len(M[i])) : \n",
    "            if (i == 0 and M[i][j] == 0) : \n",
    "                row_aux = True\n",
    "                      \n",
    "            if (j == 0 and M[i][j] == 0) : \n",
    "                col_aux = True\n",
    "              \n",
    "            if (M[i][j] == 0) : \n",
    "                M[0][j] = 0\n",
    "                M[i][0] = 0\n",
    "                  \n",
    "    #We save the information about the existence of zero cells in the first row\n",
    "    #and first column, then we will use this information for setting the remaining\n",
    "    #cells\n",
    "    \n",
    "    #With the previous information and the actual conditions we modify\n",
    "    #the submatrix (m-1)*(n-1)\n",
    "    \n",
    "    for i in range(1, len(M)) : \n",
    "          \n",
    "        for j in range(1, len(M[i])) : \n",
    "            if (M[0][j] == 0 or M[i][0] == 0) : \n",
    "                M[i][j] = 0\n",
    "    # With the information saved in 1st row and 1st column we set to zero the \n",
    "    #i-j cells of matrix\n",
    "    if (row_aux == True) : \n",
    "        for i in range(0, len(M[i])) : \n",
    "            M[0][i] = 0\n",
    "    #We set to zero the first row if a zero existed in it.\n",
    "    # modify first col if there was any 1 \n",
    "    if (col_aux == True) : \n",
    "        for i in range(0, len(M)) : \n",
    "            M[i][0] = 0\n",
    "#We set to zero the first column if a zero existed in it.\n",
    "    return(M)\n",
    "#Time complexity O(N*M) where N is the number of rows and M the number of columns of the matrix or array\n",
    "#Memory complexity O(1).\n",
    "# The code was adapted from "
   ]
  },
  {
   "cell_type": "markdown",
   "metadata": {},
   "source": [
    "4) Imagine you have a square picture, each pixel of which can be black or white (you can interpret it as binary matrix). Develop an algorithm for finding the maximum sub-square consisting of only black pixels.\n",
    "\n",
    "<b>Input:</b> binary matrix M (contains only 0-1 elements)\n",
    "\n",
    "<b>Output:</b> <i>((a1, b1),(a2, b2))</i> where <i>(a1, b1)</i> and <i>(a2, b2)</i> stay for coordinates of upper-left and lower-right sub-square corners respectively\n",
    "\n",
    "<b>Total:</b> 2.5 points"
   ]
  },
  {
   "cell_type": "code",
   "execution_count": 2,
   "metadata": {},
   "outputs": [
    {
     "name": "stdout",
     "output_type": "stream",
     "text": [
      "(a1,b1)=( 1 , 3 )\n",
      "(a1,b1)=( 3 , 5 )\n",
      "[[1 1 1]\n",
      " [1 1 1]\n",
      " [1 1 1]]\n"
     ]
    }
   ],
   "source": [
    "import numpy as np\n",
    "\n",
    "def submatrix(M):\n",
    "    K=np.matrix(np.zeros((len(M),len(M)))) #Set a zero auxiliar matrix with the original matrix size\n",
    "    K[0,:]=np.copy(M[0,:]) #####Set the first row with the original M values\n",
    "    K[:,0]=np.reshape(np.copy(M[:,0]),(len(M),1)) #####Set the first column with the original M values\n",
    "    #We`ll look for values different to zero in the submatrix M[1:,1:]\n",
    "    ###that are different to zero. We get the size of the biggest left-upper\n",
    "    ### matrix which contains ones in all cells. The size is setting in the\n",
    "    ####K[i,j] cell.\n",
    "    for i in range(1, len(M)) : \n",
    "        for j in range(1, len(M)):\n",
    "                if(M[i,j]==1):\n",
    "                    K[i,j]=(min(K[i,j-1], K[i-1,j], \n",
    "                                K[i-1,j-1]) + 1)\n",
    "                else: ###If M[i,j] is equal to zero the value is setting to zero\n",
    "                    K[i,j] = 0\n",
    "                    \n",
    "    K_m = K[0,0] #### We set the max size of ones sub matrix to zero\n",
    "    i_m = 0  #### We set the row index of solution submatrix to zero\n",
    "    j_m = 0 #### We set the col index of solution submatrix to zero\n",
    "    #### We look for the coordinates of submatrix taking in consideration\n",
    "    #### the values of the max submatrix sizes founded in the previos \n",
    "    ### double loop. If the size founded is greater than the previous one\n",
    "    ### the value of max size and the row and column coordinates change.\n",
    "    for i in range(1, len(M)): \n",
    "        for j in range(1, len(M)): \n",
    "            if (K_m < K[i,j]): \n",
    "                K_m = K[i,j] ###If the size of greates one submatrix founded is greater\n",
    "                ##### than the previous one size founded, the values of size and coordinates\n",
    "                ##### are updated\n",
    "                i_m = i \n",
    "                j_m = j \n",
    "    print('(a1,b1)=(',int(i_m-K_m+1),',',int(j_m-K_m+1),')') ###print the solution\n",
    "    print('(a1,b1)=(',int(i_m),',',int(j_m),')')             ###print the solution\n",
    "    print(M[int(i_m-K_m+1):int(i_m)+1,int(j_m-K_m+1):int(j_m)+1]) ###print the submatrix\n",
    "\n",
    "#####Code Implementation\n",
    "n=10 ######define the size of matrix\n",
    "#########Create a matrix with the specified size\n",
    "X=(np.reshape(np.random.binomial(1, 0.8, n*n),(n,n)))\n",
    "M=np.copy(X) ################Generating a copy of matrix######\n",
    "submatrix(M) ################Result of program##############\n",
    "\n",
    "#Time complexity O(N*N) where N is the size of matrix\n",
    "#Memory complexity O(N*N).\n",
    "# The code was adapted from "
   ]
  },
  {
   "cell_type": "markdown",
   "metadata": {},
   "source": [
    "5) Imagine series of integer numbers having only 3, 5 or 7 of some power in their factorization (i.e. 1, 3, 5, 7, 9, 15 etc.). Given k you're asked to return k-th number in this series.\n",
    "\n",
    "<i>Helpful link</i>: https://en.wikipedia.org/wiki/Fundamental_theorem_of_arithmetic\n",
    "\n",
    "<b>Input:</b> integer number k\n",
    "\n",
    "<b>Output:</b> k-th number of series\n",
    "\n",
    "<b>Total:</b> 3 points"
   ]
  },
  {
   "cell_type": "code",
   "execution_count": null,
   "metadata": {
    "collapsed": true
   },
   "outputs": [],
   "source": [
    "# put your code with comments here\n",
    "\n",
    "# Memory complexity: ...\n",
    "# Runtime complexity: ..."
   ]
  }
 ],
 "metadata": {
  "kernelspec": {
   "display_name": "Python 3",
   "language": "python",
   "name": "python3"
  },
  "language_info": {
   "codemirror_mode": {
    "name": "ipython",
    "version": 3
   },
   "file_extension": ".py",
   "mimetype": "text/x-python",
   "name": "python",
   "nbconvert_exporter": "python",
   "pygments_lexer": "ipython3",
   "version": "3.6.7"
  }
 },
 "nbformat": 4,
 "nbformat_minor": 2
}
